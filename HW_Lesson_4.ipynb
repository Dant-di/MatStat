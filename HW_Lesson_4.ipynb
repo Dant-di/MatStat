{
 "cells": [
  {
   "cell_type": "markdown",
   "metadata": {
    "collapsed": true,
    "pycharm": {
     "name": "#%% md\n"
    }
   },
   "source": [
    "1. Случайная непрерывная величина A имеет равномерное распределение на промежутке (200, 800]. Найдите ее среднее значение и дисперсию."
   ]
  },
  {
   "cell_type": "code",
   "execution_count": 11,
   "outputs": [
    {
     "name": "stdout",
     "output_type": "stream",
     "text": [
      "M(X) = 500\n",
      "D(X) = 30000\n"
     ]
    }
   ],
   "source": [
    "M = int((200+800)/2)\n",
    "D = int((800-200)**2/12)\n",
    "print(f'M(X) = {M}\\nD(X) = {D}')"
   ],
   "metadata": {
    "collapsed": false,
    "pycharm": {
     "name": "#%%\n"
    }
   }
  },
  {
   "cell_type": "markdown",
   "source": [
    "2. О случайной непрерывной равномерно распределенной величине B известно, что ее дисперсия равна 0.2. Можно ли найти правую границу величины B и ее среднее значение зная, что левая граница равна 0.5? Если да, найдите ее."
   ],
   "metadata": {
    "collapsed": false,
    "pycharm": {
     "name": "#%% md\n"
    }
   }
  },
  {
   "cell_type": "code",
   "source": [
    "# Зная формулу дисперсии можно найти правую границу величины В.\n",
    "# (x-0.5)**2/12 = 0.2\n",
    "# x_1 = 2.049\n",
    "# x_2 = -1.049 - данный корень не подхоит, так как правая граница не может быть меньше левой.\n",
    "a = 0.5\n",
    "b = 2.049\n",
    "\n",
    "M = (a+b)/2\n",
    "print(f'Правая граница - {b}\\nM(X) = {M}')\n"
   ],
   "metadata": {
    "collapsed": false,
    "pycharm": {
     "name": "#%%\n"
    }
   },
   "execution_count": 12,
   "outputs": [
    {
     "name": "stdout",
     "output_type": "stream",
     "text": [
      "Правая граница - 2.049\n",
      "M(X) = 1.2745\n"
     ]
    }
   ]
  },
  {
   "cell_type": "markdown",
   "source": [
    "3. Непрерывная случайная величина X распределена нормально и задана плотностью распределения\n",
    "f(x) = (1 / (4 * sqrt(2*pi))) * (exp(-(x+2)**2) / 32).\n",
    "Найдите:\n",
    "а). M(X)\n",
    "б). D(X)\n",
    "в). std(X) (среднее квадратичное отклонение)"
   ],
   "metadata": {
    "collapsed": false,
    "pycharm": {
     "name": "#%% md\n"
    }
   }
  },
  {
   "cell_type": "markdown",
   "source": [
    "а). M(X) = -2\n",
    "б). D(X) = 16\n",
    "в). std(X) = 4"
   ],
   "metadata": {
    "collapsed": false,
    "pycharm": {
     "name": "#%% md\n"
    }
   }
  },
  {
   "cell_type": "markdown",
   "source": [
    "4. Рост взрослого населения города X имеет нормальное распределение.\n",
    "Причем, средний рост равен 174 см, а среднее квадратичное отклонение равно 8 см.\n",
    "Какова вероятность того, что случайным образом выбранный взрослый человек имеет рост:\n",
    "а). больше 182 см\n",
    "б). больше 190 см\n",
    "в). от 166 см до 190 см\n",
    "г). от 166 см до 182 см\n",
    "д). от 158 см до 190 см\n",
    "е). не выше 150 см или не ниже 190 см\n",
    "ё). не выше 150 см или не ниже 198 см\n",
    "ж). ниже 166 см."
   ],
   "metadata": {
    "collapsed": false,
    "pycharm": {
     "name": "#%% md\n"
    }
   }
  },
  {
   "cell_type": "code",
   "execution_count": 11,
   "outputs": [],
   "source": [
    "M = 174\n",
    "s = 8\n",
    "\n",
    "def Z(M, s, x):\n",
    "    return (x - M)/s\n"
   ],
   "metadata": {
    "collapsed": false,
    "pycharm": {
     "name": "#%%\n"
    }
   }
  },
  {
   "cell_type": "code",
   "execution_count": 15,
   "outputs": [
    {
     "name": "stdout",
     "output_type": "stream",
     "text": [
      "z = 1.0\n",
      "Вероятность того что случайно выбранный человек больше 182 см - 0.1587 или 15.87%\n"
     ]
    }
   ],
   "source": [
    "# a)\n",
    "x = 182\n",
    "z = Z(M, s, x)\n",
    "print(f'z = {z}')\n",
    "prob = 1 - 0.84134\n",
    "print(f'Вероятность того что случайно выбранный человек больше 182 см - {round(prob, 4)} или {round(prob*100, 2)}%')\n"
   ],
   "metadata": {
    "collapsed": false,
    "pycharm": {
     "name": "#%%\n"
    }
   }
  },
  {
   "cell_type": "code",
   "execution_count": 19,
   "outputs": [
    {
     "name": "stdout",
     "output_type": "stream",
     "text": [
      "z = 2.0\n",
      "Вероятность того что случайно выбранный человек больше 182 см - 0.0228 или 2.28%\n"
     ]
    }
   ],
   "source": [
    "# б)\n",
    "x = 190\n",
    "z = Z(M, s, x)\n",
    "print(f'z = {z}')\n",
    "prob = 1 - 0.97725\n",
    "print(f'Вероятность того что случайно выбранный человек больше 190 см - {round(prob, 4)} или {round(prob*100, 2)}%')\n"
   ],
   "metadata": {
    "collapsed": false,
    "pycharm": {
     "name": "#%%\n"
    }
   }
  },
  {
   "cell_type": "code",
   "execution_count": 25,
   "outputs": [
    {
     "name": "stdout",
     "output_type": "stream",
     "text": [
      "z_1 = 2.0\n",
      "z_2 = -1.0\n",
      "Вероятность того что случайно выбранный человек от 166 до 190 см - 0.8186 или 81.86%\n"
     ]
    }
   ],
   "source": [
    "# в)\n",
    "x_1 = 190\n",
    "z_1 = Z(M, s, x_1)\n",
    "x_2 = 166\n",
    "z_2 = Z(M, s, x_2)\n",
    "\n",
    "print(f'z_1 = {z_1}\\nz_2 = {z_2}')\n",
    "prob = 0.97725 - 0.15866\n",
    "print(f'Вероятность того что случайно выбранный человек от 166 до 190 см - {round(prob, 4)} или {round(prob*100, 2)}%')\n"
   ],
   "metadata": {
    "collapsed": false,
    "pycharm": {
     "name": "#%%\n"
    }
   }
  },
  {
   "cell_type": "code",
   "execution_count": 28,
   "outputs": [
    {
     "name": "stdout",
     "output_type": "stream",
     "text": [
      "z_1 = 1.0\n",
      "z_2 = -1.0\n",
      "Вероятность того что случайно выбранный человек от 166 до 182 см - 0.6827 или 68.27%\n"
     ]
    }
   ],
   "source": [
    "# г)\n",
    "x_1 = 182\n",
    "z_1 = Z(M, s, x_1)\n",
    "x_2 = 166\n",
    "z_2 = Z(M, s, x_2)\n",
    "\n",
    "print(f'z_1 = {z_1}\\nz_2 = {z_2}')\n",
    "prob = 0.84134 - 0.15866\n",
    "print(f'Вероятность того что случайно выбранный человек от 166 до 182 см - {round(prob, 4)} или {round(prob*100, 2)}%')"
   ],
   "metadata": {
    "collapsed": false,
    "pycharm": {
     "name": "#%%\n"
    }
   }
  },
  {
   "cell_type": "code",
   "execution_count": 30,
   "outputs": [
    {
     "name": "stdout",
     "output_type": "stream",
     "text": [
      "z_1 = 2.0\n",
      "z_2 = -2.0\n",
      "Вероятность того что случайно выбранный человек от 158 до 190 см - 0.9545 или 95.45%\n"
     ]
    }
   ],
   "source": [
    "# д)\n",
    "x_1 = 190\n",
    "z_1 = Z(M, s, x_1)\n",
    "x_2 = 158\n",
    "z_2 = Z(M, s, x_2)\n",
    "\n",
    "print(f'z_1 = {z_1}\\nz_2 = {z_2}')\n",
    "prob = 0.97725 - 0.02275\n",
    "print(f'Вероятность того что случайно выбранный человек от 158 до 190 см - {round(prob, 4)} или {round(prob*100, 2)}%')"
   ],
   "metadata": {
    "collapsed": false,
    "pycharm": {
     "name": "#%%\n"
    }
   }
  },
  {
   "cell_type": "code",
   "execution_count": 35,
   "outputs": [
    {
     "name": "stdout",
     "output_type": "stream",
     "text": [
      "z_1 = 2.0\n",
      "z_2 = -3.0\n",
      "Вероятность того что случайно выбранный человек не выше 158 и не ниже 190 см - 0.0241 или 2.41%\n"
     ]
    }
   ],
   "source": [
    "# е)\n",
    "x_1 = 190\n",
    "z_1 = Z(M, s, x_1)\n",
    "x_2 = 150\n",
    "z_2 = Z(M, s, x_2)\n",
    "\n",
    "print(f'z_1 = {z_1}\\nz_2 = {z_2}')\n",
    "prob_1 =  0.00135\n",
    "prob_2 = 1 - 0.97725\n",
    "prob = prob_1 + prob_2\n",
    "print(f'Вероятность того что случайно выбранный человек не выше 158 и не ниже 190 см - {round(prob, 4)} или {round(prob*100, 2)}%')"
   ],
   "metadata": {
    "collapsed": false,
    "pycharm": {
     "name": "#%%\n"
    }
   }
  },
  {
   "cell_type": "code",
   "execution_count": 37,
   "outputs": [
    {
     "name": "stdout",
     "output_type": "stream",
     "text": [
      "z_1 = 3.0\n",
      "z_2 = -3.0\n",
      "Вероятность того что случайно выбранный человек не выше 158 и не ниже 198 см - 0.0027 или 0.27%\n"
     ]
    }
   ],
   "source": [
    "# ё)\n",
    "x_1 = 198\n",
    "z_1 = Z(M, s, x_1)\n",
    "x_2 = 150\n",
    "z_2 = Z(M, s, x_2)\n",
    "\n",
    "print(f'z_1 = {z_1}\\nz_2 = {z_2}')\n",
    "prob_1 =  0.00135\n",
    "prob_2 = 1 - 0.99865\n",
    "prob = prob_1 + prob_2\n",
    "print(f'Вероятность того что случайно выбранный человек не выше 158 и не ниже 198 см - {round(prob, 4)} или {round(prob*100, 2)}%')\n"
   ],
   "metadata": {
    "collapsed": false,
    "pycharm": {
     "name": "#%%\n"
    }
   }
  },
  {
   "cell_type": "code",
   "execution_count": 17,
   "outputs": [
    {
     "name": "stdout",
     "output_type": "stream",
     "text": [
      "z = -1.0\n",
      "Вероятность того что случайно выбранный человек ниже 166 см - 0.1587 или 15.87%\n"
     ]
    }
   ],
   "source": [
    "# ж)\n",
    "x = 166\n",
    "z = Z(M, s, x)\n",
    "print(f'z = {z}')\n",
    "prob = 0.15866\n",
    "print(f'Вероятность того что случайно выбранный человек ниже 166 см - {round(prob, 4)} или {round(prob*100, 2)}%')"
   ],
   "metadata": {
    "collapsed": false,
    "pycharm": {
     "name": "#%%\n"
    }
   }
  },
  {
   "cell_type": "markdown",
   "source": [
    "5. На сколько сигм (средних квадратичных отклонений) отклоняется рост человека, равный 190 см, от математического ожидания роста в популяции, в которой M(X) = 178 см и D(X) = 25 кв.см?"
   ],
   "metadata": {
    "collapsed": false,
    "pycharm": {
     "name": "#%% md\n"
    }
   }
  },
  {
   "cell_type": "code",
   "source": [
    "from math import sqrt\n",
    "x = 190\n",
    "M = 178\n",
    "D = 25\n",
    "\n",
    "print(f' Рост человека, равный 190 см отклоняется от математического ожидания на {(x - M) / sqrt(D)} сигм.')\n"
   ],
   "metadata": {
    "collapsed": false,
    "pycharm": {
     "name": "#%%\n"
    }
   },
   "execution_count": 7,
   "outputs": [
    {
     "name": "stdout",
     "output_type": "stream",
     "text": [
      " Рост человека, равный 190 см отклоняется от математического ожидания на  2.4 сигм.\n"
     ]
    }
   ]
  }
 ],
 "metadata": {
  "kernelspec": {
   "display_name": "Python 3",
   "language": "python",
   "name": "python3"
  },
  "language_info": {
   "codemirror_mode": {
    "name": "ipython",
    "version": 2
   },
   "file_extension": ".py",
   "mimetype": "text/x-python",
   "name": "python",
   "nbconvert_exporter": "python",
   "pygments_lexer": "ipython2",
   "version": "2.7.6"
  }
 },
 "nbformat": 4,
 "nbformat_minor": 0
}