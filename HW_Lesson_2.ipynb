{
 "cells": [
  {
   "cell_type": "code",
   "execution_count": 1,
   "outputs": [],
   "source": [
    "from math import factorial as fac\n",
    "\n",
    "def combinations(n, k):\n",
    "    return int(fac(n) / (fac(k) * fac(n - k)))\n",
    "\n",
    "def bernulli(n, k, p):\n",
    "    return combinations(n, k) * (p ** k) * (1 - p ) ** (n - k)\n",
    "\n",
    "def puasson(n, m, p):\n",
    "    return (n * p) ** m / fac(m) * 2.71828 ** (-(n * p))"
   ],
   "metadata": {
    "collapsed": false,
    "pycharm": {
     "name": "#%%\n"
    }
   }
  },
  {
   "cell_type": "markdown",
   "source": [
    "##### 1. Вероятность того, что стрелок попадет в мишень, выстрелив один раз, равна 0.8. Стрелок выстрелил 100 раз. Найдите вероятность того, что стрелок попадет в цель ровно 85 раз."
   ],
   "metadata": {
    "collapsed": false
   }
  },
  {
   "cell_type": "code",
   "execution_count": 2,
   "outputs": [
    {
     "name": "stdout",
     "output_type": "stream",
     "text": [
      "Вероятность того, что стрелок попадет в цель ровно 85 раз - 0.0481 или 4.81%\n"
     ]
    }
   ],
   "source": [
    "# Для решения используем формулу Бернулли, так как вероятность высокая, а количество испытаний относительно небольшое\n",
    "n = 100\n",
    "k = 85\n",
    "p = 0.8\n",
    "P = bernulli(n, k, p)\n",
    "print(f'Вероятность того, что стрелок попадет в цель ровно 85 раз - {round(P, 4)} или {round(P * 100, 2)}%')"
   ],
   "metadata": {
    "collapsed": false,
    "pycharm": {
     "name": "#%%\n"
    }
   }
  },
  {
   "cell_type": "markdown",
   "source": [
    "##### 2. Вероятность того, что лампочка перегорит в течение первого дня эксплуатации, равна 0.0004. В жилом комплексе после ремонта в один день включили 5000 новых лампочек. Какова вероятность, что ни одна из них не перегорит в первый день? Какова вероятность, что перегорят ровно две?"
   ],
   "metadata": {
    "collapsed": false,
    "pycharm": {
     "name": "#%% md\n"
    }
   }
  },
  {
   "cell_type": "code",
   "execution_count": 3,
   "outputs": [
    {
     "name": "stdout",
     "output_type": "stream",
     "text": [
      "Вероятность того, что ни одна лампочка не перегорит - 0.1353 или 13.53%\n",
      "Вероятность того, что перегорит ровно 2 лампочки - 0.2707 или 27.07%\n"
     ]
    }
   ],
   "source": [
    "# Для решения используем формулу Пуассона, так как вероятность мала, а количество испытаний относительно большое\n",
    "n = 5000\n",
    "m_1 = 0\n",
    "m_2 = 2\n",
    "p = 0.0004\n",
    "\n",
    "P_1 = puasson(n, m_1, p)\n",
    "P_2 = puasson(n, m_2, p)\n",
    "\n",
    "print(f'Вероятность того, что ни одна лампочка не перегорит - {round(P_1, 4)} или {round(P_1 * 100, 2)}%')\n",
    "\n",
    "print(f'Вероятность того, что перегорит ровно 2 лампочки - {round(P_2, 4)} или {round(P_2 * 100, 2)}%')"
   ],
   "metadata": {
    "collapsed": false,
    "pycharm": {
     "name": "#%%\n"
    }
   }
  },
  {
   "cell_type": "markdown",
   "source": [
    "##### 3. Монету подбросили 144 раза. Какова вероятность, что орел выпадет ровно 70 раз?"
   ],
   "metadata": {
    "collapsed": false,
    "pycharm": {
     "name": "#%% md\n"
    }
   }
  },
  {
   "cell_type": "code",
   "execution_count": 4,
   "outputs": [
    {
     "name": "stdout",
     "output_type": "stream",
     "text": [
      "Вероятность того, что орёл выпадет ровно 70 раз - 0.0628 или 6.28%\n"
     ]
    }
   ],
   "source": [
    "# Для решения используем формулу Бернулли, так как вероятность высокая, а количество испытаний относительно небольшое\n",
    "n = 144\n",
    "k = 70\n",
    "p = 0.5\n",
    "P = bernulli(n, k, p)\n",
    "print(f'Вероятность того, что орёл выпадет ровно 70 раз - {round(P, 4)} или {round(P * 100, 2)}%')"
   ],
   "metadata": {
    "collapsed": false,
    "pycharm": {
     "name": "#%%\n"
    }
   }
  },
  {
   "cell_type": "markdown",
   "source": [
    "##### 4. В первом ящике находится 10 мячей, из которых 7 - белые. Во втором ящике - 11 мячей, из которых 9 белых. Из каждого ящика вытаскивают случайным образом по два мяча."
   ],
   "metadata": {
    "collapsed": false,
    "pycharm": {
     "name": "#%% md\n"
    }
   }
  },
  {
   "cell_type": "markdown",
   "source": [
    "Какова вероятность того, что все мячи белые?"
   ],
   "metadata": {
    "collapsed": false,
    "pycharm": {
     "name": "#%% md\n"
    }
   }
  },
  {
   "cell_type": "code",
   "execution_count": 5,
   "outputs": [
    {
     "name": "stdout",
     "output_type": "stream",
     "text": [
      "Вероятность двух белых мячей из первого ящика - 0.4666666666666667\n",
      "Вероятность двух белых мячей из второго ящика - 0.6545454545454545\n",
      "\n",
      "Вероятность что все мячи белые - 0.3055 или 30.55%\n"
     ]
    }
   ],
   "source": [
    "c_1 = combinations(7, 2)\n",
    "p_1 = c_1 / combinations(10, 2)\n",
    "\n",
    "c_2 = combinations(9, 2)\n",
    "p_2 = c_2 / combinations(11, 2)\n",
    "\n",
    "print(f'Вероятность двух белых мячей из первого ящика - {p_1}')\n",
    "print(f'Вероятность двух белых мячей из второго ящика - {p_2}\\n')\n",
    "p = p_1 * p_2\n",
    "print(f'Вероятность что все мячи белые - {round(p,4)} или {round(p * 100, 2)}%')\n"
   ],
   "metadata": {
    "collapsed": false,
    "pycharm": {
     "name": "#%%\n"
    }
   }
  },
  {
   "cell_type": "markdown",
   "source": [
    "Какова вероятность того, что ровно два мяча белые?"
   ],
   "metadata": {
    "collapsed": false,
    "pycharm": {
     "name": "#%% md\n"
    }
   }
  },
  {
   "cell_type": "markdown",
   "source": [
    "Всего возможно три варианта:\n",
    "1) Два белых мяча только из первого ящика,\n",
    "2) Два белых мяча только из второго ящика,\n",
    "3) По одному белому мячу из каждого ящика"
   ],
   "metadata": {
    "collapsed": false,
    "pycharm": {
     "name": "#%% md\n"
    }
   }
  },
  {
   "cell_type": "code",
   "execution_count": 6,
   "outputs": [
    {
     "name": "stdout",
     "output_type": "stream",
     "text": [
      "Вероятность достать два белых мяча из первого ящика - 0.0085 или 0.85% \n"
     ]
    }
   ],
   "source": [
    "# 1) Два белых мяча из первого ящика\n",
    "c_1 = combinations(7,2)\n",
    "p_1 = c_1 / combinations(10, 2)\n",
    "c_2 = combinations(2,2)\n",
    "p_2 = c_2 / combinations(11, 2)\n",
    "\n",
    "P_1 = p_1 * p_2\n",
    "print(f'Вероятность достать два белых мяча из первого ящика - {round(P_1, 4)} или {round(P_1 * 100, 2)}% ')"
   ],
   "metadata": {
    "collapsed": false,
    "pycharm": {
     "name": "#%%\n"
    }
   }
  },
  {
   "cell_type": "code",
   "execution_count": 7,
   "outputs": [
    {
     "name": "stdout",
     "output_type": "stream",
     "text": [
      "Вероятность достать два белых мяча из второго ящика - 0.0436 или 4.36% \n"
     ]
    }
   ],
   "source": [
    "# 2) два белых мяча из второго ящика\n",
    "c_1 = combinations(3, 2)\n",
    "p_1 = c_1 / combinations(10, 2)\n",
    "c_2 = combinations(9, 2)\n",
    "p_2 = c_2 / combinations(11, 2)\n",
    "\n",
    "P_2 = p_1 * p_2\n",
    "\n",
    "print(f'Вероятность достать два белых мяча из второго ящика - {round(P_2, 4)} или {round(P_2 * 100, 2)}% ')"
   ],
   "metadata": {
    "collapsed": false,
    "pycharm": {
     "name": "#%%\n"
    }
   }
  },
  {
   "cell_type": "code",
   "execution_count": 8,
   "outputs": [
    {
     "name": "stdout",
     "output_type": "stream",
     "text": [
      "Вероятность достать по одному белому мячу из каждого ящика - 0.0382 или 3.82% \n"
     ]
    }
   ],
   "source": [
    "# 3) по одному белому мячу из каждого ящика\n",
    "c_1 = combinations(7, 1)\n",
    "c_2 = combinations(3, 1)\n",
    "\n",
    "p_1 = c_1 / combinations(10, 1)\n",
    "p_2 = c_2 / combinations(9, 1)\n",
    "\n",
    "c_3 = combinations(9, 1)\n",
    "c_4 = combinations(2, 1)\n",
    "\n",
    "p_3 = c_3 / combinations(11, 1)\n",
    "p_4 = c_4 / combinations(10, 1)\n",
    "\n",
    "P_3 = p_1 * p_2 * p_3 * p_4\n",
    "\n",
    "print(f'Вероятность достать по одному белому мячу из каждого ящика - {round(P_3, 4)} или {round(P_3 * 100, 2)}% ')"
   ],
   "metadata": {
    "collapsed": false,
    "pycharm": {
     "name": "#%%\n"
    }
   }
  },
  {
   "cell_type": "code",
   "execution_count": 9,
   "outputs": [
    {
     "name": "stdout",
     "output_type": "stream",
     "text": [
      "Вероятность что ровно 2 мяча белые - 0.0903 или 9.03%\n"
     ]
    }
   ],
   "source": [
    "P = (P_1 + P_2 + P_3) - (P_1 * P_2 * P_3)\n",
    "print(f'Вероятность что ровно 2 мяча белые - {round(P, 4)} или {round(P * 100, 2)}%')"
   ],
   "metadata": {
    "collapsed": false,
    "pycharm": {
     "name": "#%%\n"
    }
   }
  },
  {
   "cell_type": "markdown",
   "source": [
    "Какова вероятность того, что хотя бы один мяч белый?"
   ],
   "metadata": {
    "collapsed": false,
    "pycharm": {
     "name": "#%% md\n"
    }
   }
  },
  {
   "cell_type": "markdown",
   "source": [
    "При расчете вероятности того, что хотя бы один мяч был белый необходимо рассмотреть 4 варианта:\n",
    "1) Только один мяч белый\n",
    "2) Два мяча белые (вероятность 0.0903)\n",
    "3) Три мяча белые\n",
    "4) Все четыре мяча белые (вероятность 0.3055)"
   ],
   "metadata": {
    "collapsed": false,
    "pycharm": {
     "name": "#%% md\n"
    }
   }
  },
  {
   "cell_type": "code",
   "execution_count": 10,
   "outputs": [
    {
     "name": "stdout",
     "output_type": "stream",
     "text": [
      "Вероятность достать только один белый мяч - 0.0151 или 1.51% \n"
     ]
    }
   ],
   "source": [
    "# 1) Только один мяч белый, соответственно либо из первого, либо из второго ящика\n",
    "# из первого ящика\n",
    "c_1 = combinations(7, 1)\n",
    "c_2 = combinations(3, 1)\n",
    "c_3 = combinations(2, 2)\n",
    "\n",
    "p_1 = c_1 / combinations(10, 1)\n",
    "p_2 = c_2 / combinations(9, 1)\n",
    "p_3 = c_3 / combinations(11, 2)\n",
    "\n",
    "P_1 = p_1* p_2 * p_3\n",
    "\n",
    "\n",
    "# из второго ящика\n",
    "c_4 = combinations(9, 1)\n",
    "c_5 = combinations(2, 1)\n",
    "c_6 = combinations(3, 2)\n",
    "\n",
    "p_4 = c_4 / combinations(11, 1)\n",
    "p_5 = c_5 / combinations(10, 1)\n",
    "p_6 = c_6 / combinations(10, 2)\n",
    "\n",
    "P_2 = p_4 * p_5 * p_6\n",
    "\n",
    "\n",
    "P = P_1 + P_2 - (P_1 * P_2)\n",
    "\n",
    "print(f'Вероятность достать только один белый мяч - {round(P, 4)} или {round(P * 100, 2)}% ')"
   ],
   "metadata": {
    "collapsed": false,
    "pycharm": {
     "name": "#%%\n"
    }
   }
  },
  {
   "cell_type": "code",
   "execution_count": 11,
   "outputs": [
    {
     "name": "stdout",
     "output_type": "stream",
     "text": [
      "Вероятность достать три белых мяча - 0.2174 или 21.74% \n"
     ]
    }
   ],
   "source": [
    "# 3) три мяча белые, соответственно это либо два белых мяча из первого ящика и один из второго, либо один из первого и два из второго.\n",
    "\n",
    "# два белых из первого один из второго\n",
    "# Вероятность двух белых мячей из первого ящика уже посчитана\n",
    "p_1 = 0.4666666666666667\n",
    "\n",
    "# Вероятность одного белого мяча из второго ящика\n",
    "c_a = combinations(9, 1)\n",
    "c_b = combinations(2, 1)\n",
    "p_a = c_a / combinations(11, 1)\n",
    "p_b = c_b / combinations(10, 1)\n",
    "\n",
    "P_1 = p_1 * p_a * p_b\n",
    "\n",
    "# один белый из первого и два из второго.\n",
    "# Вероятность двух белых мячей из второго ящика уже посчитана\n",
    "p_2 = 0.6545454545454545\n",
    "\n",
    "# Вероятность одного белого мяча из первого ящика\n",
    "c_c = combinations(7, 1)\n",
    "c_d = combinations(3, 1)\n",
    "\n",
    "p_c = c_c / combinations(10, 1)\n",
    "p_d = c_d / combinations(9, 1)\n",
    "\n",
    "P_2 = p_2 * p_c * p_d\n",
    "\n",
    "P = P_1 + P_2 - (P_1 * P_2)\n",
    "\n",
    "print(f'Вероятность достать три белых мяча - {round(P, 4)} или {round(P * 100, 2)}% ')"
   ],
   "metadata": {
    "collapsed": false,
    "pycharm": {
     "name": "#%%\n"
    }
   }
  },
  {
   "cell_type": "code",
   "execution_count": 12,
   "outputs": [
    {
     "name": "stdout",
     "output_type": "stream",
     "text": [
      "Вероятность того, что хотя бы один из мячей будет белым - 0.6283 или 62.83%\n"
     ]
    }
   ],
   "source": [
    "P_fin = 0.0151 + 0.0903 + 0.2174 + 0.3055\n",
    "print(f'Вероятность того, что хотя бы один из мячей будет белым - {round(P_fin, 4)} или {round(P_fin * 100, 2)}%')"
   ],
   "metadata": {
    "collapsed": false,
    "pycharm": {
     "name": "#%%\n"
    }
   }
  },
  {
   "cell_type": "code",
   "execution_count": null,
   "outputs": [],
   "source": [],
   "metadata": {
    "collapsed": false,
    "pycharm": {
     "name": "#%%\n"
    }
   }
  }
 ],
 "metadata": {
  "kernelspec": {
   "display_name": "Python 3",
   "language": "python",
   "name": "python3"
  },
  "language_info": {
   "codemirror_mode": {
    "name": "ipython",
    "version": 2
   },
   "file_extension": ".py",
   "mimetype": "text/x-python",
   "name": "python",
   "nbconvert_exporter": "python",
   "pygments_lexer": "ipython2",
   "version": "2.7.6"
  }
 },
 "nbformat": 4,
 "nbformat_minor": 0
}