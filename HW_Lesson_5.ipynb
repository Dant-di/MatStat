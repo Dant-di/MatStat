{
 "cells": [
  {
   "cell_type": "code",
   "execution_count": 29,
   "outputs": [],
   "source": [
    "import numpy as np"
   ],
   "metadata": {
    "collapsed": false,
    "pycharm": {
     "name": "#%%\n"
    }
   }
  },
  {
   "cell_type": "markdown",
   "source": [
    "1. Известно, что генеральная совокупность распределена нормально со средним квадратическим отклонением, равным 16.\n",
    "Найти доверительный интервал для оценки математического ожидания a с надежностью 0.95, если выборочная средняя M = 80, а объем выборки n = 256."
   ],
   "metadata": {
    "collapsed": false
   }
  },
  {
   "cell_type": "code",
   "execution_count": 76,
   "outputs": [],
   "source": [
    "def conf_int(X, n, z, s):\n",
    "    X_a = (X - z*s/n**0.5)\n",
    "    X_b = (X + z*s/n**0.5)\n",
    "    return [round(X_a, 3), round(X_b, 3)]\n",
    "\n",
    "\n",
    "def criteria(X, mu, s, n):\n",
    "    return round((X-mu)/(s/n**0.5), 3)"
   ],
   "metadata": {
    "collapsed": false,
    "pycharm": {
     "name": "#%%\n"
    }
   }
  },
  {
   "cell_type": "markdown",
   "source": [],
   "metadata": {
    "collapsed": false
   }
  },
  {
   "cell_type": "code",
   "execution_count": 77,
   "outputs": [
    {
     "name": "stdout",
     "output_type": "stream",
     "text": [
      "Доверительный итервал - [78.04, 81.96]\n"
     ]
    }
   ],
   "source": [
    "# Так как известно среднее квадратическое отклонение генеральной совокупности, то будем рассчитывать доверительный интервал с использованием z-критерия.\n",
    "X = 80\n",
    "n = 256\n",
    "z = 1.96\n",
    "s = 16\n",
    "print(f'Доверительный итервал - {conf_int(X, n, z, s)}')"
   ],
   "metadata": {
    "collapsed": false,
    "pycharm": {
     "name": "#%%\n"
    }
   }
  },
  {
   "cell_type": "markdown",
   "source": [
    "2. В результате 10 независимых измерений некоторой величины X, выполненных с одинаковой точностью, получены опытные данные: 6.9, 6.1, 6.2, 6.8, 7.5, 6.3, 6.4, 6.9, 6.7, 6.1\n",
    "Предполагая, что результаты измерений подчинены нормальному закону распределения вероятностей, оценить истинное значение величины X при помощи доверительного интервала, покрывающего это значение с доверительной вероятностью 0,95."
   ],
   "metadata": {
    "collapsed": false
   }
  },
  {
   "cell_type": "code",
   "execution_count": 78,
   "outputs": [
    {
     "name": "stdout",
     "output_type": "stream",
     "text": [
      "Доверительный итервал - [6.268, 6.912]\n"
     ]
    }
   ],
   "source": [
    "#Так как среднее квадратическое отклонение генеральной совокупности неизвестно, то будем рассчитывать доверительный интервал с использованием t-критерия.\n",
    "data = [6.9, 6.1, 6.2, 6.8, 7.5, 6.3, 6.4, 6.9, 6.7, 6.1]\n",
    "\n",
    "X = np.mean(data)\n",
    "n = len(data)\n",
    "t = 2.262\n",
    "s = np.std(data, ddof=1)\n",
    "\n",
    "print(f'Доверительный итервал - {conf_int(X, n, t, s)}')\n",
    "\n"
   ],
   "metadata": {
    "collapsed": false,
    "pycharm": {
     "name": "#%%\n"
    }
   }
  },
  {
   "cell_type": "markdown",
   "source": [
    "\n",
    "3. Утверждается, что шарики для подшипников, изготовленные автоматическим станком, имеют средний диаметр 17 мм. Используя односторонний критерий с α=0,05, проверить эту гипотезу, если в выборке из n=100 шариков средний диаметр оказался равным 17.5 мм, а дисперсия известна и равна 4 кв. мм.\n"
   ],
   "metadata": {
    "collapsed": false,
    "pycharm": {
     "name": "#%% md\n"
    }
   }
  },
  {
   "cell_type": "code",
   "execution_count": 79,
   "outputs": [
    {
     "name": "stdout",
     "output_type": "stream",
     "text": [
      "z = 1.65\n",
      "Zh = 2.5\n",
      "Гипотеза H1 верна\n"
     ]
    }
   ],
   "source": [
    "#1) H0: Диаметр = 17 мм, m=m0\n",
    "#   H1: Диаметр = 17,5 мм, m>m0\n",
    "\n",
    "# 2) Используем z-критерий, так как известно среднее квадратичное отклонение  генеральной совокупности.\n",
    "\n",
    "# 3) α=0,05\n",
    "\n",
    "# 4) P(Zh>z)\n",
    "\n",
    "z = 1.65\n",
    "X = 17.5\n",
    "mu = 17\n",
    "s = 4**0.5\n",
    "n = 100\n",
    "\n",
    "# 5)\n",
    "Zh = criteria(X, mu, s, n)\n",
    "print(f'z = {z}')\n",
    "print(f'Zh = {Zh}')\n",
    "\n",
    "if Zh > z:\n",
    "    print(\"Гипотеза H1 верна\")\n",
    "else:\n",
    "    print(\"Гипотеза H0 верна\")\n"
   ],
   "metadata": {
    "collapsed": false,
    "pycharm": {
     "name": "#%%\n"
    }
   }
  },
  {
   "cell_type": "markdown",
   "source": [
    "4. Продавец утверждает, что средний вес пачки печенья составляет 200 г. Из партии извлечена выборка из 10 пачек. Вес каждой пачки составляет: 202, 203, 199, 197, 195, 201, 200, 204, 194, 190.\n",
    "Известно, что их веса распределены нормально. Верно ли утверждение продавца, если учитывать, что доверительная вероятность равна 99%?"
   ],
   "metadata": {
    "collapsed": false,
    "pycharm": {
     "name": "#%% md\n"
    }
   }
  },
  {
   "cell_type": "code",
   "source": [
    "data = [202, 203, 199, 197, 195, 201, 200, 204, 194, 190]\n",
    "X = np.mean(data)\n",
    "print(X)\n"
   ],
   "metadata": {
    "collapsed": false,
    "pycharm": {
     "name": "#%%\n"
    }
   },
   "execution_count": 87,
   "outputs": [
    {
     "name": "stdout",
     "output_type": "stream",
     "text": [
      "198.5\n"
     ]
    }
   ]
  },
  {
   "cell_type": "code",
   "execution_count": 88,
   "outputs": [],
   "source": [
    "# 1) H0: Вес = 200 гр, m=m0\n",
    "#    H1: Вес = 198,5 гр, m!=m0\n",
    "# 2) Используем t-критерий, так как среднее квадратичное отклонение генеральной совокупности не известно.\n",
    "# 3) α=0,01\n",
    "\n",
    "# 4) P(-t < Th < t)"
   ],
   "metadata": {
    "collapsed": false,
    "pycharm": {
     "name": "#%%\n"
    }
   }
  },
  {
   "cell_type": "code",
   "execution_count": 90,
   "outputs": [
    {
     "name": "stdout",
     "output_type": "stream",
     "text": [
      "-t = -3.25\n",
      "t = 3.25\n",
      "Th = -1.065\n",
      "Гипотеза H0 верна\n"
     ]
    }
   ],
   "source": [
    "t = 3.250\n",
    "mu = 200\n",
    "s = np.std(data, ddof=1)\n",
    "n = len(data)\n",
    "\n",
    "# 5)\n",
    "Th = criteria(X, mu, s, n)\n",
    "print(f'-t = {-t}')\n",
    "print(f't = {t}')\n",
    "print(f'Th = {Th}')\n",
    "\n",
    "if -t < Th < t:\n",
    "    print('Гипотеза H0 верна')\n",
    "else:\n",
    "    print('Гипотеза H1 верна')"
   ],
   "metadata": {
    "collapsed": false,
    "pycharm": {
     "name": "#%%\n"
    }
   }
  }
 ],
 "metadata": {
  "kernelspec": {
   "display_name": "Python 3",
   "language": "python",
   "name": "python3"
  },
  "language_info": {
   "codemirror_mode": {
    "name": "ipython",
    "version": 2
   },
   "file_extension": ".py",
   "mimetype": "text/x-python",
   "name": "python",
   "nbconvert_exporter": "python",
   "pygments_lexer": "ipython2",
   "version": "2.7.6"
  }
 },
 "nbformat": 4,
 "nbformat_minor": 0
}