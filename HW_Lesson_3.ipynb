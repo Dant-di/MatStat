{
 "cells": [
  {
   "cell_type": "code",
   "execution_count": 2,
   "outputs": [],
   "source": [
    "from math import factorial as fac\n",
    "\n",
    "def combinations(n, k):\n",
    "    return int(fac(n) / (fac(k) * fac(n - k)))\n",
    "\n",
    "def bernulli(n, k, p):\n",
    "    return combinations(n, k) * (p ** k) * (1 - p ) ** (n - k)\n",
    "\n",
    "def puasson(n, m, p):\n",
    "    return (n * p) ** m / fac(m) * 2.71828 ** (-(n * p))\n",
    "\n",
    "import numpy as np"
   ],
   "metadata": {
    "collapsed": false,
    "pycharm": {
     "name": "#%%\n"
    }
   }
  },
  {
   "cell_type": "code",
   "execution_count": 2,
   "outputs": [],
   "source": [],
   "metadata": {
    "collapsed": false,
    "pycharm": {
     "name": "#%%\n"
    }
   }
  },
  {
   "cell_type": "markdown",
   "source": [
    "#### 1. Даны значения зарплат из выборки выпускников: 100, 80, 75, 77, 89, 33, 45, 25, 65, 17, 30, 24, 57, 55, 70, 75, 65, 84, 90, 150. Посчитать (желательно без использования статистических методов наподобие std, var, mean) среднее арифметическое, среднее квадратичное отклонение, смещенную и несмещенную оценки дисперсий для данной выборки."
   ],
   "metadata": {
    "collapsed": false
   }
  },
  {
   "cell_type": "code",
   "execution_count": 3,
   "outputs": [],
   "source": [
    "data = [100, 80, 75, 77, 89, 33, 45, 25, 65, 17, 30, 24, 57, 55, 70, 75, 65, 84, 90, 150]"
   ],
   "metadata": {
    "collapsed": false,
    "pycharm": {
     "name": "#%%\n"
    }
   }
  },
  {
   "cell_type": "code",
   "execution_count": 4,
   "outputs": [
    {
     "name": "stdout",
     "output_type": "stream",
     "text": [
      "Среднее арифметическое - 65.3\n"
     ]
    }
   ],
   "source": [
    "average = sum(data)/ len(data)\n",
    "print(f'Среднее арифметическое - {average}')"
   ],
   "metadata": {
    "collapsed": false,
    "pycharm": {
     "name": "#%%\n"
    }
   }
  },
  {
   "cell_type": "code",
   "execution_count": 5,
   "outputs": [
    {
     "name": "stdout",
     "output_type": "stream",
     "text": [
      "Среднее квадратичное отклонение - 30.823854398825596\n"
     ]
    }
   ],
   "source": [
    "summ = 0\n",
    "for i in data:\n",
    "    summ = summ + (i-average)**2\n",
    "\n",
    "stand_dev = (summ/len(data))**0.5\n",
    "print(f'Среднее квадратичное отклонение - {stand_dev}')\n"
   ],
   "metadata": {
    "collapsed": false,
    "pycharm": {
     "name": "#%%\n"
    }
   }
  },
  {
   "cell_type": "code",
   "execution_count": 6,
   "outputs": [
    {
     "name": "stdout",
     "output_type": "stream",
     "text": [
      "Смещенная оценка дисперсии - 950.11\n"
     ]
    }
   ],
   "source": [
    "b_var = summ/len(data)\n",
    "print(f'Смещенная оценка дисперсии - {b_var}')"
   ],
   "metadata": {
    "collapsed": false,
    "pycharm": {
     "name": "#%%\n"
    }
   }
  },
  {
   "cell_type": "code",
   "execution_count": 7,
   "outputs": [
    {
     "name": "stdout",
     "output_type": "stream",
     "text": [
      "Несмещенная оценка дисперсии - 1000.1157894736842\n"
     ]
    }
   ],
   "source": [
    "unb_var = summ/(len(data)-1)\n",
    "print(f'Несмещенная оценка дисперсии - {unb_var}')"
   ],
   "metadata": {
    "collapsed": false,
    "pycharm": {
     "name": "#%%\n"
    }
   }
  },
  {
   "cell_type": "markdown",
   "source": [
    "#### 2. В первом ящике находится 8 мячей, из которых 5 - белые. Во втором ящике - 12 мячей, из которых 5 белых. Из первого ящика вытаскивают случайным образом два мяча, из второго - 4. Какова вероятность того, что 3 мяча белые?"
   ],
   "metadata": {
    "collapsed": false,
    "pycharm": {
     "name": "#%% md\n"
    }
   }
  },
  {
   "cell_type": "markdown",
   "source": [
    "Возможны три варианта вытащить 3 белых мяча:"
   ],
   "metadata": {
    "collapsed": false,
    "pycharm": {
     "name": "#%% md\n"
    }
   }
  },
  {
   "cell_type": "code",
   "source": [
    "# а) все три белых мяча только из второго ящика\n",
    "p_a = combinations(3, 2) / combinations(8, 2)\n",
    "p_b = combinations(5, 3) * combinations(7, 1) / combinations(12, 4)\n",
    "p1 = p_a * p_b\n",
    "p1"
   ],
   "metadata": {
    "collapsed": false,
    "pycharm": {
     "name": "#%%\n"
    }
   },
   "execution_count": 13,
   "outputs": [
    {
     "data": {
      "text/plain": "0.01515151515151515"
     },
     "execution_count": 13,
     "metadata": {},
     "output_type": "execute_result"
    }
   ]
  },
  {
   "cell_type": "code",
   "execution_count": 9,
   "outputs": [
    {
     "data": {
      "text/plain": "0.22727272727272724"
     },
     "execution_count": 9,
     "metadata": {},
     "output_type": "execute_result"
    }
   ],
   "source": [
    "# б) один белый мяч из первого и два белых из второго\n",
    "p_a = combinations(5, 1) * combinations(3, 1) / combinations(8, 2)\n",
    "p_b = combinations(5, 2) * combinations(7, 2) / combinations(12, 4)\n",
    "p2 = p_a * p_b\n",
    "p2"
   ],
   "metadata": {
    "collapsed": false,
    "pycharm": {
     "name": "#%%\n"
    }
   }
  },
  {
   "cell_type": "code",
   "execution_count": 14,
   "outputs": [
    {
     "data": {
      "text/plain": "0.12626262626262627"
     },
     "execution_count": 14,
     "metadata": {},
     "output_type": "execute_result"
    }
   ],
   "source": [
    "# в) два белых мяча из первого и один из второго\n",
    "p_a = combinations(5, 2) / combinations(8, 2)\n",
    "p_b = combinations(5, 1) * combinations(7, 3) / combinations(12, 4)\n",
    "p3 = p_a * p_b\n",
    "p3"
   ],
   "metadata": {
    "collapsed": false,
    "pycharm": {
     "name": "#%%\n"
    }
   }
  },
  {
   "cell_type": "code",
   "execution_count": 15,
   "outputs": [
    {
     "name": "stdout",
     "output_type": "stream",
     "text": [
      "Вероятность того, что три мяча белые - 0.3687 или 36.87%\n"
     ]
    }
   ],
   "source": [
    "total = p1+p2+p3\n",
    "print(f'Вероятность того, что три мяча белые - {round(total, 4)} или {round(total*100, 2)}%')"
   ],
   "metadata": {
    "collapsed": false,
    "pycharm": {
     "name": "#%%\n"
    }
   }
  },
  {
   "cell_type": "markdown",
   "source": [
    "#### 3. На соревновании по биатлону один из трех спортсменов стреляет и попадает в мишень. Вероятность попадания для первого спортсмена равна 0.9, для второго — 0.8, для третьего — 0.6. Найти вероятность того, что выстрел произведен: a). первым спортсменом б). вторым спортсменом в). третьим спортсменом."
   ],
   "metadata": {
    "collapsed": false,
    "pycharm": {
     "name": "#%% md\n"
    }
   }
  },
  {
   "cell_type": "markdown",
   "source": [
    "Расчет проводим по формуле Байеса"
   ],
   "metadata": {
    "collapsed": false,
    "pycharm": {
     "name": "#%% md\n"
    }
   }
  },
  {
   "cell_type": "code",
   "source": [
    "p_a_b1 = 0.9\n",
    "p_a_b2 = 0.8\n",
    "p_a_b3 = 0.6\n",
    "\n",
    "p_b1 = 1 / 3\n",
    "p_b2 = 1 / 3\n",
    "p_b3 = 1 / 3\n",
    "\n",
    "p_a = p_b1 * p_a_b1 + p_b2 * p_a_b2 + p_b3 * p_a_b3\n",
    "\n",
    "#a)\n",
    "P1 = p_b1*p_a_b1/p_a\n",
    "print(f'Вероятность того, что выстрел произведен первым спортсменом - {round(P1, 4)} или {round(P1*100, 2)}%')\n",
    "\n",
    "# б)\n",
    "P2 = p_b2*p_a_b2/p_a\n",
    "print(f'Вероятность того, что выстрел произведен вторым спортсменом - {round(P2, 4)} или {round(P2*100, 2)}%')\n",
    "\n",
    "# в)\n",
    "P3 = p_b3*p_a_b3/p_a\n",
    "print(f'Вероятность того, что выстрел произведен третьим спортсменом - {round(P3, 4)} или {round(P3*100, 2)}%')\n"
   ],
   "metadata": {
    "collapsed": false,
    "pycharm": {
     "name": "#%%\n"
    }
   },
   "execution_count": 18,
   "outputs": [
    {
     "name": "stdout",
     "output_type": "stream",
     "text": [
      "Вероятность того, что выстрел произведен первым спортсменом - 0.3913 или 39.13%\n",
      "Вероятность того, что выстрел произведен вторым спортсменом - 0.3478 или 34.78%\n",
      "Вероятность того, что выстрел произведен третьим спортсменом - 0.2609 или 26.09%\n"
     ]
    }
   ]
  },
  {
   "cell_type": "markdown",
   "source": [
    "#### 4. В университет на факультеты A и B поступило равное количество студентов, а на факультет C студентов поступило столько же, сколько на A и B вместе. Вероятность того, что студент факультета A сдаст первую сессию, равна 0.8. Для студента факультета B эта вероятность равна 0.7, а для студента факультета C - 0.9. Студент сдал первую сессию. Какова вероятность, что он учится: a). на факультете A б). на факультете B в). на факультете C?"
   ],
   "metadata": {
    "collapsed": false,
    "pycharm": {
     "name": "#%% md\n"
    }
   }
  },
  {
   "cell_type": "markdown",
   "source": [
    "Расчет проводим по формуле Байеса"
   ],
   "metadata": {
    "collapsed": false,
    "pycharm": {
     "name": "#%% md\n"
    }
   }
  },
  {
   "cell_type": "code",
   "source": [
    "p_a_b1 = 0.8\n",
    "p_a_b2 = 0.7\n",
    "p_a_b3 = 0.9\n",
    "\n",
    "p_b1 = 1 / 4\n",
    "p_b2 = 1 / 4\n",
    "p_b3 = 1 / 2\n",
    "\n",
    "p_a = p_b1 * p_a_b1 + p_b2 * p_a_b2 + p_b3 * p_a_b3\n",
    "\n",
    "#a)\n",
    "P1 = p_b1*p_a_b1/p_a\n",
    "print(f'Вероятность того, что студент учится на факультете А - {round(P1, 4)} или {round(P1*100, 2)}%')\n",
    "\n",
    "# б)\n",
    "P2 = p_b2*p_a_b2/p_a\n",
    "print(f'Вероятность того, что студент учится на факультете В - {round(P2, 4)} или {round(P2*100, 2)}%')\n",
    "\n",
    "# в)\n",
    "P3 = p_b3*p_a_b3/p_a\n",
    "print(f'Вероятность того, что студент учится на факультете С - {round(P3, 4)} или {round(P3*100, 2)}%')"
   ],
   "metadata": {
    "collapsed": false,
    "pycharm": {
     "name": "#%%\n"
    }
   },
   "execution_count": 28,
   "outputs": [
    {
     "name": "stdout",
     "output_type": "stream",
     "text": [
      "Вероятность того, что студент учится на факультете А - 0.2424 или 24.24%\n",
      "Вероятность того, что студент учится на факультете В - 0.2121 или 21.21%\n",
      "Вероятность того, что студент учится на факультете С - 0.5455 или 54.55%\n"
     ]
    }
   ]
  },
  {
   "cell_type": "markdown",
   "source": [
    "#### 5. Устройство состоит из трех деталей. Для первой детали вероятность выйти из строя в первый месяц равна 0.1, для второй - 0.2, для третьей - 0.25. Какова вероятность того, что в первый месяц выйдут из строя: а). все детали б). только две детали в). хотя бы одна деталь г). от одной до двух деталей?"
   ],
   "metadata": {
    "collapsed": false,
    "pycharm": {
     "name": "#%% md\n"
    }
   }
  },
  {
   "cell_type": "code",
   "execution_count": 27,
   "outputs": [
    {
     "name": "stdout",
     "output_type": "stream",
     "text": [
      "Вероятность того, что из строя выйдут все детали - 0.005 или 0.5%\n",
      "Вероятность того, что из строя выйдут две детали - 0.08 или 8.0%\n",
      "Вероятность того, что из строя выйдет хотя бы одна деталь - 0.46 или 46.0%\n",
      "Вероятность того, что из строя выйдет от одной до  двух деталей  - 0.455 или 45.5%\n"
     ]
    }
   ],
   "source": [
    "p_a = 0.1\n",
    "p_b = 0.2\n",
    "p_c = 0.25\n",
    "\n",
    "#a)\n",
    "P1 = p_a * p_b * p_c\n",
    "print(f'Вероятность того, что из строя выйдут все детали - {round(P1, 4)} или {round(P1*100, 2)}%')\n",
    "\n",
    "# б)\n",
    "P2 = p_a * p_b * (1 - p_c) + p_a * (1 - p_b) * p_c + (1 - p_a) * p_b * p_c\n",
    "print(f'Вероятность того, что из строя выйдут две детали - {round(P2, 4)} или {round(P2*100, 2)}%')\n",
    "\n",
    "# в)\n",
    "Pc = p_a * (1 - p_b) * (1-p_c) + (1- p_a) * p_b * (1 - p_c) + (1 - p_a) * (1 - p_b) * p_c\n",
    "P3 =  Pc + P1 + P2\n",
    "print(f'Вероятность того, что из строя выйдет хотя бы одна деталь - {round(P3, 4)} или {round(P3*100, 2)}%')\n",
    "\n",
    "# г)\n",
    "P4 =  Pc + P2\n",
    "print(f'Вероятность того, что из строя выйдет от одной до  двух деталей  - {round(P4, 4)} или {round(P4*100, 2)}%')"
   ],
   "metadata": {
    "collapsed": false,
    "pycharm": {
     "name": "#%%\n"
    }
   }
  }
 ],
 "metadata": {
  "kernelspec": {
   "display_name": "Python 3",
   "language": "python",
   "name": "python3"
  },
  "language_info": {
   "codemirror_mode": {
    "name": "ipython",
    "version": 2
   },
   "file_extension": ".py",
   "mimetype": "text/x-python",
   "name": "python",
   "nbconvert_exporter": "python",
   "pygments_lexer": "ipython2",
   "version": "2.7.6"
  }
 },
 "nbformat": 4,
 "nbformat_minor": 0
}